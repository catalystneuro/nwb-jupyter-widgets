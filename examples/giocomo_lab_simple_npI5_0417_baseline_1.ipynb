{
 "cells": [
  {
   "cell_type": "code",
   "execution_count": 1,
   "metadata": {
    "scrolled": true
   },
   "outputs": [],
   "source": [
    "import pynwb\n",
    "import nwbwidgets\n",
    "import pandas as pd\n",
    "import numpy as np\n",
    "\n",
    "from nwbwidgets import nwb2widget\n",
    "from pynwb import NWBHDF5IO\n",
    "from collections import OrderedDict"
   ]
  },
  {
   "cell_type": "code",
   "execution_count": 2,
   "metadata": {},
   "outputs": [
    {
     "data": {
      "application/vnd.jupyter.widget-view+json": {
       "model_id": "73068dd4db794de7949dcbc6dc5ccb8c",
       "version_major": 2,
       "version_minor": 0
      },
      "text/plain": [
       "VBox(children=(Text(value=\"'Kei Masuda'\", description='experimenter', disabled=True), Text(value=\"'Virtual Hal…"
      ]
     },
     "metadata": {},
     "output_type": "display_data"
    }
   ],
   "source": [
    "path = 'G:\\\\My Drive\\\\Giocomo\\\\data\\\\npI5_0417_baseline_1_v4.nwb'\n",
    "\n",
    "io = NWBHDF5IO(path, mode='r')\n",
    "nwb = io.read()\n",
    "\n",
    "nwb2widget(nwb)"
   ]
  }
 ],
 "metadata": {
  "kernelspec": {
   "display_name": "Python 3",
   "language": "python",
   "name": "python3"
  },
  "language_info": {
   "codemirror_mode": {
    "name": "ipython",
    "version": 3
   },
   "file_extension": ".py",
   "mimetype": "text/x-python",
   "name": "python",
   "nbconvert_exporter": "python",
   "pygments_lexer": "ipython3",
   "version": "3.7.4"
  }
 },
 "nbformat": 4,
 "nbformat_minor": 2
}
