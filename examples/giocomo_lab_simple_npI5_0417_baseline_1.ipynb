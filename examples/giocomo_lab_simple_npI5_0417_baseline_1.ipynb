{
 "cells": [
  {
   "cell_type": "code",
   "execution_count": 1,
   "metadata": {
    "scrolled": true
   },
   "outputs": [],
   "source": [
    "import pynwb\n",
    "import nwbwidgets\n",
    "import pandas as pd\n",
    "import numpy as np\n",
    "\n",
    "from nwbwidgets import nwb2widget\n",
    "from pynwb import NWBHDF5IO\n",
    "from collections import OrderedDict"
   ]
  },
  {
   "cell_type": "code",
   "execution_count": 2,
   "metadata": {},
   "outputs": [],
   "source": [
    "giocomo_vis_spec = OrderedDict({\n",
    "    pynwb.misc.AnnotationSeries: OrderedDict({\n",
    "        'text': nwbwidgets.view.show_text_fields,\n",
    "        'times': nwbwidgets.misc.show_annotations}),\n",
    "    pynwb.core.LabelledDict: nwbwidgets.view.dict2accordion,\n",
    "    pynwb.ProcessingModule: nwbwidgets.view.processing_module,\n",
    "    pynwb.core.DynamicTable: OrderedDict({\n",
    "        'table': nwbwidgets.base.show_dynamic_table,\n",
    "        'session raster': nwbwidgets.ecephys.show_session_raster}),\n",
    "    pynwb.ecephys.LFP: nwbwidgets.ecephys.show_lfp,\n",
    "    pynwb.behavior.Position: nwbwidgets.behavior.show_position,\n",
    "    pynwb.behavior.SpatialSeries: nwbwidgets.behavior.show_spatial_series,\n",
    "    pynwb.image.GrayscaleImage: nwbwidgets.image.show_grayscale_image,\n",
    "    pynwb.image.ImageSeries: nwbwidgets.image.show_image_series,\n",
    "    pynwb.image.IndexSeries: nwbwidgets.image.show_index_series,\n",
    "    pynwb.TimeSeries: nwbwidgets.base.show_timeseries,\n",
    "    pynwb.core.NWBBaseType: nwbwidgets.base.show_neurodata_base\n",
    "})"
   ]
  },
  {
   "cell_type": "code",
   "execution_count": 3,
   "metadata": {},
   "outputs": [
    {
     "data": {
      "application/vnd.jupyter.widget-view+json": {
       "model_id": "e2cd65e471fd4959800c807cfe51f5f9",
       "version_major": 2,
       "version_minor": 0
      },
      "text/plain": [
       "VBox(children=(Text(value=\"'Malcolm Campbell'\", description='experimenter', disabled=True), Text(value=\"'Virtu…"
      ]
     },
     "metadata": {},
     "output_type": "display_data"
    }
   ],
   "source": [
    "path = 'G:\\\\My Drive\\\\Giocomo\\\\data\\\\npI5_0417_baseline_1_v3.nwb'\n",
    "\n",
    "io = NWBHDF5IO(path, mode='r')\n",
    "nwb = io.read()\n",
    "\n",
    "nwb2widget(nwb,giocomo_vis_spec)"
   ]
  }
 ],
 "metadata": {
  "kernelspec": {
   "display_name": "Python 3",
   "language": "python",
   "name": "python3"
  },
  "language_info": {
   "codemirror_mode": {
    "name": "ipython",
    "version": 3
   },
   "file_extension": ".py",
   "mimetype": "text/x-python",
   "name": "python",
   "nbconvert_exporter": "python",
   "pygments_lexer": "ipython3",
   "version": "3.7.4"
  }
 },
 "nbformat": 4,
 "nbformat_minor": 2
}
